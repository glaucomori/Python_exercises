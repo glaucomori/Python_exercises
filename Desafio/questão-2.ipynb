{
  "nbformat": 4,
  "nbformat_minor": 0,
  "metadata": {
    "colab": {
      "provenance": []
    },
    "kernelspec": {
      "name": "python3",
      "display_name": "Python 3"
    },
    "language_info": {
      "name": "python"
    }
  },
  "cells": [
    {
      "cell_type": "markdown",
      "source": [
        "2) Dado a sequência de Fibonacci, onde se inicia por 0 e 1 e o próximo valor sempre será a soma dos 2 valores anteriores (exemplo: 0, 1, 1, 2, 3, 5, 8, 13, 21, 34...), escreva um programa na linguagem que desejar onde, informado um número, ele calcule a sequência de Fibonacci e retorne uma mensagem avisando se o número informado pertence ou não a sequência.\n",
        "\n",
        "\n",
        "\n",
        "IMPORTANTE:\n",
        "\n",
        "Esse número pode ser informado através de qualquer entrada de sua preferência ou pode ser previamente definido no código;"
      ],
      "metadata": {
        "id": "yrncz7J5V1qr"
      }
    },
    {
      "cell_type": "code",
      "execution_count": null,
      "metadata": {
        "colab": {
          "base_uri": "https://localhost:8080/"
        },
        "id": "dyBehv39Lf9b",
        "outputId": "82be667c-9d1b-4e34-e47f-878a4272baae"
      },
      "outputs": [
        {
          "output_type": "stream",
          "name": "stdout",
          "text": [
            "Informe um número: 6765\n",
            "O número informado pertence à Sequência de Fibonacci.\n"
          ]
        }
      ],
      "source": [
        "numero = int(input(\"Informe um número: \"))\n",
        "\n",
        "penultimo = 0\n",
        "ultimo = 1\n",
        "\n",
        "while True:\n",
        "    if numero == ultimo or numero == penultimo:\n",
        "        resposta = 'O número informado pertence à Sequência de Fibonacci.'\n",
        "        break\n",
        "    elif numero < ultimo:\n",
        "        resposta = 'O número informado NÃO pertence à Sequência de Fibonacci.'\n",
        "        break\n",
        "    else:\n",
        "        penultimo, ultimo = ultimo, ultimo + penultimo\n",
        "        \n",
        "print(resposta)"
      ]
    }
  ]
}