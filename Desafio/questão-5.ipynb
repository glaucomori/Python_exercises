{
  "nbformat": 4,
  "nbformat_minor": 0,
  "metadata": {
    "colab": {
      "provenance": []
    },
    "kernelspec": {
      "name": "python3",
      "display_name": "Python 3"
    },
    "language_info": {
      "name": "python"
    }
  },
  "cells": [
    {
      "cell_type": "markdown",
      "source": [
        "5) Escreva um programa que inverta os caracteres de um string.\n",
        "\n",
        "\n",
        "\n",
        "IMPORTANTE:\n",
        "\n",
        "a) Essa string pode ser informada através de qualquer entrada de sua preferência ou pode ser previamente definida no código;\n",
        "\n",
        "b) Evite usar funções prontas, como, por exemplo, reverse;"
      ],
      "metadata": {
        "id": "1N-0CnUfWMJo"
      }
    },
    {
      "cell_type": "code",
      "execution_count": 1,
      "metadata": {
        "colab": {
          "base_uri": "https://localhost:8080/"
        },
        "id": "_CYtvSU8WITF",
        "outputId": "68bc5e3d-3ff6-45e6-db69-51dad0ab3bc0"
      },
      "outputs": [
        {
          "output_type": "stream",
          "name": "stdout",
          "text": [
            "Insira a string: Hoje acordei mais cedo que o horário normal.\n",
            "A string invertida é: .lamron oirároh o euq odec siam iedroca ejoH\n"
          ]
        }
      ],
      "source": [
        "string = input('Insira a string: ')\n",
        "\n",
        "string = string[::-1]\n",
        "\n",
        "print(f'A string invertida é: {string}')"
      ]
    }
  ]
}