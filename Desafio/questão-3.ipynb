{
  "nbformat": 4,
  "nbformat_minor": 0,
  "metadata": {
    "colab": {
      "provenance": []
    },
    "kernelspec": {
      "name": "python3",
      "display_name": "Python 3"
    },
    "language_info": {
      "name": "python"
    }
  },
  "cells": [
    {
      "cell_type": "markdown",
      "source": [
        "# 3) Descubra a lógica e complete o próximo elemento:"
      ],
      "metadata": {
        "id": "_xqbcxglNHN1"
      }
    },
    {
      "cell_type": "markdown",
      "source": [
        "## a) 1, 3, 5, 7, ___"
      ],
      "metadata": {
        "id": "-qkGHxAxNQ_k"
      }
    },
    {
      "cell_type": "markdown",
      "source": [
        "O próximo elemento da sequência é sempre o predecessor acrescido de 2. Assim o próximo elemento é: 7 + 2 = 9."
      ],
      "metadata": {
        "id": "gXD4oLl0NVci"
      }
    },
    {
      "cell_type": "markdown",
      "source": [
        "## b) 2, 4, 8, 16, 32, 64, ____"
      ],
      "metadata": {
        "id": "1dVz6oMqN3SG"
      }
    },
    {
      "cell_type": "markdown",
      "source": [
        "O próximo elemento da sequência é sempre o dobro do predecessor. Assim o próximo elemento é: 64 x 2 = 128."
      ],
      "metadata": {
        "id": "uSRfq6NdNyzI"
      }
    },
    {
      "cell_type": "markdown",
      "source": [
        "## c) 0, 1, 4, 9, 16, 25, 36, ____"
      ],
      "metadata": {
        "id": "bQTvvzLzOY6e"
      }
    },
    {
      "cell_type": "markdown",
      "source": [
        "O próximo elemento da sequência é sempre o quadrado do seu índice. Assim, como o próximo elemento terá índice 7, seu valor será: 7² = 49."
      ],
      "metadata": {
        "id": "esSxNp2OOvi2"
      }
    },
    {
      "cell_type": "markdown",
      "source": [
        "## d) 4, 16, 36, 64, ____"
      ],
      "metadata": {
        "id": "5hmBgPerPSST"
      }
    },
    {
      "cell_type": "markdown",
      "source": [
        "O próximo elemento da sequência é sempre o quadrado dos números pares. Assim como o último número na seguência é o quadrado do número 8, o próximo elemento será: 10² = 100."
      ],
      "metadata": {
        "id": "wEQWkTlEPU6q"
      }
    },
    {
      "cell_type": "markdown",
      "source": [
        "## e) 1, 1, 2, 3, 5, 8, ____"
      ],
      "metadata": {
        "id": "A_s53Zl1PZ7R"
      }
    },
    {
      "cell_type": "markdown",
      "source": [
        "Essa é a sequência de Fibonacci. Assim o próximo elemento é a soma dos dois elementos anteriores: 8 + 5 = 13."
      ],
      "metadata": {
        "id": "Yoe4dYkGPcXo"
      }
    },
    {
      "cell_type": "markdown",
      "source": [
        "## f) 2,10, 12, 16, 17, 18, 19, ____"
      ],
      "metadata": {
        "id": "Ds1u3PuzPe19"
      }
    },
    {
      "cell_type": "markdown",
      "source": [
        "O próximo elemento da sequência seria 20. Não consegui identificar um padrão por toda a sequência, mas os últimos 3 elementos foram exatamente o seu antecessor acrescido de 1."
      ],
      "metadata": {
        "id": "qGClGZh0Pf2O"
      }
    }
  ]
}